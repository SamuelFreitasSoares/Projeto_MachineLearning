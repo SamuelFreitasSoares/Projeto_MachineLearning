{
 "cells": [
  {
   "cell_type": "markdown",
   "id": "df7a9b48",
   "metadata": {},
   "source": [
    "## Bloco 1: Importar bibliotecas e carregar dados"
   ]
  },
  {
   "cell_type": "code",
   "execution_count": null,
   "id": "fe951cb7",
   "metadata": {},
   "outputs": [],
   "source": [
    "import pandas as pd\n",
    "import matplotlib.pyplot as plt\n",
    "import seaborn as sns\n",
    "\n",
    "# Configuração para gráficos aparecerem no notebook\n",
    "%matplotlib inline\n",
    "\n",
    "# Carregar dataset corrigido\n",
    "df = pd.read_csv(\"../dados/dataset_corrigido.csv\")\n",
    "\n",
    "# Conferir primeiros registros\n",
    "df.head()"
   ]
  },
  {
   "cell_type": "markdown",
   "id": "0171e0df",
   "metadata": {},
   "source": [
    "## Bloco 2: Estatísticas descritivas básicas"
   ]
  },
  {
   "cell_type": "code",
   "execution_count": null,
   "id": "739fefad",
   "metadata": {},
   "outputs": [],
   "source": [
    "# Estatísticas das colunas numéricas\n",
    "df.describe()"
   ]
  },
  {
   "cell_type": "markdown",
   "id": "928764f9",
   "metadata": {},
   "source": [
    "## Bloco 3: Histogramas das variáveis numéricas"
   ]
  },
  {
   "cell_type": "code",
   "execution_count": null,
   "id": "73bc31a2",
   "metadata": {},
   "outputs": [],
   "source": [
    "numericas = ['area_total', 'desmatado', 'vegetacao_natural', 'nao_vegetacao_natural', 'hidrografia']\n",
    "\n",
    "limites_x = {\n",
    "    'area_total': 20000,        # km²\n",
    "    'desmatado': 2000,          # km²\n",
    "    'vegetacao_natural': 15000, # km²\n",
    "    'nao_vegetacao_natural': 500, \n",
    "    'hidrografia': 500\n",
    "}\n",
    "\n",
    "for col in numericas:\n",
    "    plt.figure(figsize=(8,4))\n",
    "    plt.hist(df[col], bins=50, color='skyblue', edgecolor='black')\n",
    "    plt.title(f'Distribuição de {col}')\n",
    "    plt.xlabel(col)\n",
    "    plt.ylabel('Número de registros')\n",
    "    \n",
    "    # Limitar eixo X se houver limite definido\n",
    "    if col in limites_x:\n",
    "        plt.xlim(0, limites_x[col])\n",
    "    \n",
    "    plt.show()\n"
   ]
  },
  {
   "cell_type": "markdown",
   "id": "9cbcbc23",
   "metadata": {},
   "source": [
    "## Bloco 4: Distribuição de registros por bioma"
   ]
  },
  {
   "cell_type": "code",
   "execution_count": null,
   "id": "1a2b2ad2",
   "metadata": {},
   "outputs": [],
   "source": [
    "df['bioma'].value_counts()\n",
    "\n",
    "plt.figure(figsize=(8,5))\n",
    "sns.countplot(data=df, x='bioma', order=df['bioma'].value_counts().index, palette='viridis')\n",
    "plt.title('Quantidade de registros por bioma')\n",
    "plt.xlabel('Bioma')\n",
    "plt.ylabel('Número de registros')\n",
    "plt.show()"
   ]
  },
  {
   "cell_type": "markdown",
   "id": "d1da2026",
   "metadata": {},
   "source": [
    "## Bloco 5: Evolução do desmatamento ao longo dos anos"
   ]
  },
  {
   "cell_type": "code",
   "execution_count": null,
   "id": "2b0852dc",
   "metadata": {},
   "outputs": [],
   "source": [
    "media_desmatamento = df.groupby('ano')['desmatado'].mean()\n",
    "\n",
    "plt.figure(figsize=(10,5))\n",
    "plt.plot(media_desmatamento.index, media_desmatamento.values, marker='o', color='red')\n",
    "plt.title('Média de desmatamento por ano')\n",
    "plt.xlabel('Ano')\n",
    "plt.ylabel('Desmatamento médio (km²)')\n",
    "plt.grid(True)\n",
    "plt.show()"
   ]
  },
  {
   "cell_type": "markdown",
   "id": "4f0e3a80",
   "metadata": {},
   "source": [
    "## Bloco 6: Comparação entre biomas"
   ]
  },
  {
   "cell_type": "code",
   "execution_count": null,
   "id": "5b329597",
   "metadata": {},
   "outputs": [],
   "source": [
    "media_bioma = df.groupby('bioma')['desmatado'].mean().sort_values(ascending=False)\n",
    "media_bioma\n",
    "\n",
    "plt.figure(figsize=(8,5))\n",
    "sns.barplot(x=media_bioma.index, y=media_bioma.values, palette='magma')\n",
    "plt.title('Média de desmatamento por bioma')\n",
    "plt.xlabel('Bioma')\n",
    "plt.ylabel('Desmatamento médio (km²)')\n",
    "plt.show()"
   ]
  },
  {
   "cell_type": "markdown",
   "id": "18181e90",
   "metadata": {},
   "source": [
    "## Bloco 7: Percentuais de área"
   ]
  },
  {
   "cell_type": "code",
   "execution_count": null,
   "id": "6fdff541",
   "metadata": {},
   "outputs": [],
   "source": [
    "# Criar colunas percentuais\n",
    "df['perc_vegetacao'] = df['vegetacao_natural'] / df['area_total'] * 100\n",
    "df['perc_nao_vegetacao'] = df['nao_vegetacao_natural'] / df['area_total'] * 100\n",
    "df['perc_hidrografia'] = df['hidrografia'] / df['area_total'] * 100\n",
    "\n",
    "# Verificar primeiros registros\n",
    "df[['ano','id_municipio','bioma','perc_vegetacao','perc_nao_vegetacao','perc_hidrografia']].head()\n",
    "\n",
    "percentuais = ['perc_vegetacao', 'perc_nao_vegetacao', 'perc_hidrografia']\n",
    "\n",
    "# Limites para visualização (0-100%)\n",
    "limite_percentual = 100\n",
    "\n",
    "for col in percentuais:\n",
    "    plt.figure(figsize=(8,4))\n",
    "    plt.hist(df[col], bins=50, color='lightgreen', edgecolor='black')\n",
    "    plt.title(f'Distribuição de {col}')\n",
    "    plt.xlabel('Percentual (%)')\n",
    "    plt.ylabel('Número de registros')\n",
    "    plt.xlim(0, limite_percentual)  # Limite do eixo X\n",
    "    plt.show()\n"
   ]
  },
  {
   "cell_type": "markdown",
   "id": "0cb52ea3",
   "metadata": {},
   "source": [
    "## Bloco 8: Boxplots de desmatamento por bioma"
   ]
  },
  {
   "cell_type": "code",
   "execution_count": null,
   "id": "827d4481",
   "metadata": {},
   "outputs": [],
   "source": [
    "plt.figure(figsize=(10,6))\n",
    "\n",
    "# Boxplot do desmatamento por bioma\n",
    "sns.boxplot(data=df, x='bioma', y='desmatado', palette='pastel')\n",
    "\n",
    "plt.title('Boxplot de desmatamento por bioma')\n",
    "plt.xlabel('Bioma')\n",
    "plt.ylabel('Desmatamento (km²)')\n",
    "\n",
    "# Limitar eixo Y para facilitar visualização da maioria dos municípios\n",
    "plt.ylim(0, 2000) \n",
    "\n",
    "plt.show()\n"
   ]
  },
  {
   "cell_type": "markdown",
   "id": "e36d3a15",
   "metadata": {},
   "source": [
    "## Bloco 9: Evolução percentual da vegetação natural"
   ]
  },
  {
   "cell_type": "code",
   "execution_count": null,
   "id": "1f8924cc",
   "metadata": {},
   "outputs": [],
   "source": [
    "# Calcular média percentual de vegetação natural por ano\n",
    "media_perc_veg = df.groupby('ano')['perc_vegetacao'].mean()\n",
    "\n",
    "plt.figure(figsize=(10,5))\n",
    "plt.plot(media_perc_veg.index, media_perc_veg.values, marker='o', color='green')\n",
    "plt.title('Média percentual de vegetação natural por ano')\n",
    "plt.xlabel('Ano')\n",
    "plt.ylabel('Percentual de vegetação natural (%)')\n",
    "plt.grid(True)\n",
    "plt.show()\n"
   ]
  },
  {
   "cell_type": "markdown",
   "id": "7c1e0aec",
   "metadata": {},
   "source": [
    "## Bloco 10: Comparação percentual entre biomas"
   ]
  },
  {
   "cell_type": "code",
   "execution_count": null,
   "id": "abdd1042",
   "metadata": {},
   "outputs": [],
   "source": [
    "# Média percentual de vegetação natural por bioma\n",
    "media_perc_bioma = df.groupby('bioma')['perc_vegetacao'].mean().sort_values(ascending=False)\n",
    "\n",
    "# Mostrar a tabela\n",
    "print(media_perc_bioma)\n",
    "\n",
    "# Gráfico de barras\n",
    "plt.figure(figsize=(8,5))\n",
    "sns.barplot(x=media_perc_bioma.index, y=media_perc_bioma.values, palette='Greens')\n",
    "plt.title('Média percentual de vegetação natural por bioma')\n",
    "plt.xlabel('Bioma')\n",
    "plt.ylabel('Percentual médio (%)')\n",
    "plt.ylim(0, 100)  # Limite do eixo Y\n",
    "plt.show()"
   ]
  }
 ],
 "metadata": {
  "kernelspec": {
   "display_name": "env",
   "language": "python",
   "name": "python3"
  },
  "language_info": {
   "codemirror_mode": {
    "name": "ipython",
    "version": 3
   },
   "file_extension": ".py",
   "mimetype": "text/x-python",
   "name": "python",
   "nbconvert_exporter": "python",
   "pygments_lexer": "ipython3",
   "version": "3.12.3"
  }
 },
 "nbformat": 4,
 "nbformat_minor": 5
}
